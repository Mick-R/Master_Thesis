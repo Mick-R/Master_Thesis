{
 "cells": [
  {
   "cell_type": "code",
   "execution_count": null,
   "id": "418910ee-f25a-4834-8a74-c7d3c3869ab3",
   "metadata": {},
   "outputs": [],
   "source": []
  },
  {
   "cell_type": "code",
   "execution_count": null,
   "id": "64895822-5f60-4169-ab44-57308f245739",
   "metadata": {},
   "outputs": [],
   "source": [
    "from llama_index import VectorStoreIndex, SimpleDirectoryReader\n",
    "from llama_index.query_engine import RetrieverQueryEngine\n",
    "from llama_index.prompts import PromptTemplate\n",
    "from llama_index.llms import OpenAI  # Replace with local LLM if needed\n",
    "\n",
    "# Step 1: Load job listing examples\n",
    "documents = SimpleDirectoryReader(\"job_listings\").load_data()\n",
    "index = VectorStoreIndex.from_documents(documents)\n",
    "retriever = index.as_retriever()\n",
    "\n",
    "# Step 2: Define the prompt\n",
    "prompt_template_str = \"\"\"\n",
    "You are an expert recruitment writer. Based on the examples below, write a new job listing for a {job_title} at {company_name} in {location}.\n",
    "Match the tone, structure, and language style.\n",
    "\n",
    "### Examples:\n",
    "{context_str}\n",
    "\n",
    "### New Job Title:\n",
    "{job_title}\n",
    "\n",
    "### Generated Listing:\n",
    "\"\"\"\n",
    "\n",
    "prompt = PromptTemplate(prompt_template_str)\n",
    "\n",
    "# Step 3: Setup LLM + RAG pipeline\n",
    "llm = OpenAI(model=\"gpt-3.5-turbo\")  # or your preferred LLM\n",
    "query_engine = RetrieverQueryEngine(\n",
    "    retriever=retriever,\n",
    "    llm=llm,\n",
    "    text_qa_template=prompt\n",
    ")\n",
    "\n",
    "# Step 4: Generate job listing\n",
    "query = {\n",
    "    \"job_title\": \"Machine Learning Engineer\",\n",
    "    \"company_name\": \"FutureAI\",\n",
    "    \"location\": \"Berlin\"\n",
    "}\n",
    "\n",
    "response = query_engine.query(query)\n",
    "print(response)"
   ]
  }
 ],
 "metadata": {
  "kernelspec": {
   "display_name": "Python 3 (ipykernel)",
   "language": "python",
   "name": "python3"
  },
  "language_info": {
   "codemirror_mode": {
    "name": "ipython",
    "version": 3
   },
   "file_extension": ".py",
   "mimetype": "text/x-python",
   "name": "python",
   "nbconvert_exporter": "python",
   "pygments_lexer": "ipython3",
   "version": "3.12.2"
  }
 },
 "nbformat": 4,
 "nbformat_minor": 5
}
