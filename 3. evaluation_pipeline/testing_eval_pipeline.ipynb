{
 "cells": [
  {
   "cell_type": "markdown",
   "id": "986287c0-30aa-47b1-8455-a8bfb1f1cf74",
   "metadata": {},
   "source": [
    "# LLM-Based Evaluation Pipeline\n",
    "\n",
    "This notebook presents an implementation of an LLM-Based Evaluation Pipeline for automated assessment of job listing quality.\n",
    "\n",
    "## Key Components\n",
    "1. **Evaluation Metrics**\n",
    "- Implements metrics derived from expert interviews and literature\n",
    "- Provides quantitative scoring across multiple quality dimensions with multiple techniques\n",
    "\n",
    "2. **Analysis Reporting**\n",
    "- Tracks efficiency through step counting\n",
    "- Documents pipeline performance across evaluation iterations\n",
    "- Generates detailed breakdowns of metric-specific assessments\n",
    "\n",
    "\n",
    "3. **Experiments**\n",
    "- Experimenting with the performance of each metric\n",
    "- Modifying the metrics until high agreement with human evaluations\n",
    "- Revising prompts to generate consistent job listings\n"
   ]
  },
  {
   "cell_type": "code",
   "execution_count": 18,
   "id": "aa662c0d-a386-49af-ba74-25d07f31b81b",
   "metadata": {},
   "outputs": [],
   "source": [
    "import numpy as np\n",
    "import pandas as pd\n",
    "import os\n",
    "from datetime import datetime\n",
    "\n",
    "\n",
    "import dspy\n",
    "import openai\n",
    "\n",
    "import phoenix as px\n",
    "from phoenix.experiments import run_experiment, evaluate_experiment\n",
    "from phoenix.experiments.types import Example\n",
    "\n"
   ]
  },
  {
   "cell_type": "markdown",
   "id": "f3659d18-c84f-4c6f-88a2-62e24c1923ac",
   "metadata": {},
   "source": [
    "## 1. Evaluation Metrics\n",
    "Example quality metrics:\n",
    "1. Clarity\n"
   ]
  },
  {
   "cell_type": "code",
   "execution_count": 3,
   "id": "d3c3572e-3f7f-4c7e-942b-6482f8e5763e",
   "metadata": {},
   "outputs": [],
   "source": [
    "CLARITY_LLM_JUDGE_PROMPT = \"\"\"\n",
    "In this task, you will be presented with a job listing. Your objective is to evaluate the clarity \n",
    "of the job listing. A \"clear\" job listing is one that is well-structured, concise, easy to read, \n",
    "and directly communicates the necessary information without ambiguity or unnecessary complexity. \n",
    "An \"unclear\" job listing is one that deviates from the specified job, is vague, disorganized, overly complex, or difficult to understand.\n",
    "\n",
    "Your response should be a single word: either \"clear\" or \"unclear,\" indicating whether the listing is easy to understand. Do not include any other text or characters in your answer.\n",
    "\n",
    "After providing your response, you must write a detailed explanation justifying your reasoning. \n",
    "Avoid stating the final label at the beginning of your explanation. Your reasoning should focus on specific aspects of the job listing that affect clarity, such as grammar, organization, and conciseness.\n",
    "\n",
    "[BEGIN DATA]\n",
    "Input: {job_listing}\n",
    "Answer: {response}\n",
    "[END DATA]\n",
    "\n",
    "EXPLANATION: Provide your reasoning step by step, evaluating aspects like structure, language, and readability.\n",
    "LABEL: \"clear\" or \"unclear\"\n",
    "\"\"\""
   ]
  },
  {
   "cell_type": "markdown",
   "id": "c51a85f4-97c1-4d04-8005-b27bda613d37",
   "metadata": {},
   "source": [
    "#### Think about section chunking for specific metrics"
   ]
  },
  {
   "cell_type": "code",
   "execution_count": 4,
   "id": "f1c2fcc7-9f2a-4096-9e5e-a7328a2bf6e1",
   "metadata": {},
   "outputs": [],
   "source": [
    "def evaluate_clarity(output: str, input: str) -> bool:\n",
    "    if output is None:\n",
    "        return False\n",
    "    df = pd.DataFrame({\"query\": [input.get(\"question\")],\n",
    "                       \"response\": [output.get(\"final_output\")]})\n",
    "    response = llm_classify(\n",
    "        data=df,\n",
    "        template=CLARITY_LLM_JUDGE_PROMPT,\n",
    "        rails=[\"clear\", \"unclear\"],\n",
    "        model=eval_model,\n",
    "        provide_explanation=True\n",
    "    )\n",
    "    return response['label'] == 'clear'"
   ]
  },
  {
   "cell_type": "markdown",
   "id": "41d11773-6dcf-4708-b046-d1b5ee4b6901",
   "metadata": {},
   "source": [
    "## 2. Analysis reporting"
   ]
  },
  {
   "cell_type": "code",
   "execution_count": 6,
   "id": "ad36a920-78ce-4048-afb3-869a6620f17b",
   "metadata": {},
   "outputs": [
    {
     "name": "stdout",
     "output_type": "stream",
     "text": [
      "🌍 To view the Phoenix app in your browser, visit http://localhost:6006/\n",
      "📖 For more information on how to use Phoenix, check out https://docs.arize.com/phoenix\n"
     ]
    },
    {
     "data": {
      "text/plain": [
       "<phoenix.session.session.ThreadSession at 0x30d5ae8d0>"
      ]
     },
     "execution_count": 6,
     "metadata": {},
     "output_type": "execute_result"
    }
   ],
   "source": [
    "px.launch_app()"
   ]
  },
  {
   "cell_type": "code",
   "execution_count": 7,
   "id": "e838f964-84fa-4503-92a2-d3a89d811c49",
   "metadata": {},
   "outputs": [],
   "source": [
    "px_client = px.Client()"
   ]
  },
  {
   "cell_type": "code",
   "execution_count": 11,
   "id": "2e23a2cf-bdad-4ed1-b69a-1b314edb29f5",
   "metadata": {},
   "outputs": [],
   "source": [
    "experiment_example_data = pd.DataFrame([\n",
    "    {'job_listing': \"Software Engineer - Join our dynamic team to build cutting-edge web applications. Requirements: 3+ years of experience with Python, JavaScript, and React. Responsibilities include developing new features, optimizing performance, and collaborating with cross-functional teams.\",\n",
    "     'rating': 1,\n",
    "     'explanation': \"This job listing clearly outlines responsibilities and requirements. The technical skills are specific (Python, JavaScript, React) and the experience level (3+ years) is clear. The listing would benefit from salary information and details about benefits or company culture.\"},\n",
    "    {'job_listing': \"Data Scientist - Looking for an experienced data scientist to analyze large datasets and develop machine learning models. Must have strong background in Python, R, statistics, and machine learning frameworks. PhD preferred.\",\n",
    "     'rating': 0,\n",
    "     'explanation': \"The listing provides a good description of required skills but lacks information about specific projects or problems the data scientist would work on. The PhD preference might unnecessarily limit the candidate pool. Missing details about team structure and career growth.\"},\n",
    "    {'job_listing': \"Marketing Manager - Drive our digital marketing strategy and manage a team of 5. Requirements: 5+ years of experience in digital marketing, proficiency in Google Analytics, and proven track record of successful campaigns.\",\n",
    "     'rating': 1,\n",
    "     'explanation': \"Excellent job listing with clear responsibilities (managing a team of 5) and specific skill requirements. The mention of digital marketing strategy and Google Analytics gives candidates a good understanding of the role. Could include more about KPIs and measurement of success.\"},\n",
    "    {'job_listing': \"UX Designer - Create intuitive user experiences for our mobile app. Requires expertise in Figma, user research, and prototyping. 2+ years of experience in a similar role required.\",\n",
    "     'rating': 0,\n",
    "     'explanation': \"This listing lacks specific details about the mobile app and industry. While it mentions required tools (Figma), it doesn't elaborate on the design process or team structure. The experience requirement is clear but overall the listing is too vague about day-to-day responsibilities.\"},\n",
    "    {'job_listing': \"DevOps Engineer - Seeking a skilled DevOps engineer to maintain and improve our cloud infrastructure. Experience with AWS, Docker, Kubernetes, and CI/CD pipelines required. Must be available for on-call rotations.\",\n",
    "     'rating': 0,\n",
    "     'explanation': \"Good technical requirements (AWS, Docker, Kubernetes) but the on-call requirement is mentioned without details about rotation frequency or compensation. The listing would be improved with information about team size and specific projects or infrastructure challenges.\"},\n",
    "    {'job_listing': \"Product Manager - Lead product development from conception to launch. Must have excellent communication skills, agile methodology experience, and technical background. MBA preferred.\",\n",
    "     'rating': 1,\n",
    "     'explanation': \"The listing provides a good overview of the role but uses generic phrases like 'excellent communication skills' without specifics. The MBA preference is mentioned without context. Would benefit from details about product types and industry-specific challenges.\"},\n",
    "    {'job_listing': \"Front-end Developer - Create responsive and accessible web interfaces using modern frameworks. Requirements: Proficiency in HTML, CSS, JavaScript, and experience with React or Vue.js.\",\n",
    "     'rating': 0,\n",
    "     'explanation': \"Clear technical requirements for front-end development but lacks information about the products or services being developed. The listing would be improved with details about the development team size and structure, as well as specific projects or challenges.\"},\n",
    "    {'job_listing': \"Customer Success Manager - Help our clients achieve their goals with our SaaS platform. Strong communication skills, customer service experience, and technical aptitude required.\",\n",
    "     'rating': 1,\n",
    "     'explanation': \"This job listing outlines the purpose of the role clearly but lacks specifics about the SaaS platform and customer base. The requirements are somewhat vague ('strong communication skills', 'technical aptitude') and would benefit from more concrete examples or metrics.\"},\n",
    "    {'job_listing': \"Machine Learning Engineer - Develop and deploy machine learning models at scale. Deep knowledge of neural networks, NLP, and computer vision required. PhD or equivalent experience preferred.\",\n",
    "     'rating': 0,\n",
    "     'explanation': \"The listing includes specific technical requirements but doesn't describe application domains or projects. The PhD preference might exclude qualified candidates with equivalent practical experience. Missing information about team structure and development processes.\"},\n",
    "    {'job_listing': \"Technical Writer - Create clear documentation for our APIs and software products. Experience with markup languages, technical writing tools, and ability to explain complex concepts simply.\",\n",
    "     'rating': 1,\n",
    "     'explanation': \"Very clear and specific job listing that outlines both the skills required (markup languages, technical writing tools) and the nature of the work (API documentation). The expectation to 'explain complex concepts simply' gives candidates a good understanding of the role's challenges.\"}\n",
    "])"
   ]
  },
  {
   "cell_type": "code",
   "execution_count": 12,
   "id": "c827e2c5-5820-4ffa-bf92-32edcbbefb6d",
   "metadata": {},
   "outputs": [
    {
     "name": "stdout",
     "output_type": "stream",
     "text": [
      "📤 Uploading dataset...\n",
      "💾 Examples uploaded: http://localhost:6006/datasets/RGF0YXNldDox/examples\n",
      "🗄️ Dataset version ID: RGF0YXNldFZlcnNpb246MQ==\n"
     ]
    }
   ],
   "source": [
    "now = datetime.now().strftime(\"%Y-%m-%d %H:%M:%S\")\n",
    "\n",
    "dataset = px_client.upload_dataset(dataframe=experiment_example_data, \n",
    "                                   dataset_name=f\"overall_experiment_inputs-{now}\", \n",
    "                                   input_keys=[\"job_listing\"], \n",
    "                                   output_keys=[\"rating\", \"explanation\"])"
   ]
  },
  {
   "cell_type": "markdown",
   "id": "a3bcfc03-3e40-4d15-8d57-03a4b2a1662d",
   "metadata": {},
   "source": [
    "## 3. Experiments"
   ]
  },
  {
   "cell_type": "code",
   "execution_count": null,
   "id": "6c3581b2-8fff-4151-a6f5-888076b1d30b",
   "metadata": {},
   "outputs": [],
   "source": [
    "def run_agent(messages):\n",
    "    print(\"Running agent with messages:\", messages)\n",
    "    if isinstance(messages, str):\n",
    "        messages = [{\"role\": \"user\", \"content\": messages}]\n",
    "        print(\"Converted string message to list format\")\n",
    "    \n",
    "    if not any(\n",
    "            isinstance(message, dict) and message.get(\"role\") == \"system\" for message in messages\n",
    "        ):\n",
    "            system_prompt = {\"role\": \"system\", \"content\": \"You are a helpful assistant that can answer questions about the Store Sales Price Elasticity Promotions dataset.\"}\n",
    "            messages.append(system_prompt)\n",
    "            print(\"Added system prompt to messages\")\n",
    "\n",
    "    while True:\n",
    "        # Router call span\n",
    "        print(\"Starting router\")\n",
    "            \n",
    "        response = client.chat.completions.create(\n",
    "            model=MODEL,\n",
    "            messages=messages,\n",
    "            tools=tools,\n",
    "        )\n",
    "\n",
    "        messages.append(response.choices[0].message.model_dump())\n",
    "        tool_calls = response.choices[0].message.tool_calls\n",
    "        print(\"Received response with tool calls:\", bool(tool_calls))\n",
    "        \n",
    "        if tool_calls:\n",
    "            print(\"Processing tool calls\")\n",
    "            tool_calls = response.choices[0].message.tool_calls\n",
    "            messages = handle_tool_calls(tool_calls, messages)\n",
    "        else:\n",
    "            print(\"No tool calls, returning final response\")\n",
    "            return messages"
   ]
  },
  {
   "cell_type": "code",
   "execution_count": 16,
   "id": "925f5e86-d884-4f5b-9611-590a11869950",
   "metadata": {},
   "outputs": [],
   "source": [
    "def run_agent_task(example: Example) -> str:\n",
    "    print(\"Starting agent with messages:\", example.input.get(\"job_listing\"))\n",
    "    messages = [{\"role\": \"user\", \"content\": example.input.get(\"question\")}]\n",
    "    ret = run_agent(messages)\n",
    "    return process_messages(ret)"
   ]
  },
  {
   "cell_type": "code",
   "execution_count": 19,
   "id": "8be7a74c-e2b5-4f06-a4d2-8b164fef6781",
   "metadata": {},
   "outputs": [
    {
     "name": "stderr",
     "output_type": "stream",
     "text": [
      "🐌!! If running inside a notebook, patching the event loop with nest_asyncio will allow asynchronous eval submission, and is significantly faster. To patch the event loop, run `nest_asyncio.apply()`.\n"
     ]
    },
    {
     "name": "stdout",
     "output_type": "stream",
     "text": [
      "🧪 Experiment started.\n",
      "📺 View dataset experiments: http://localhost:6006/datasets/RGF0YXNldDox/experiments\n",
      "🔗 View this experiment: http://localhost:6006/datasets/RGF0YXNldDox/compare?experimentId=RXhwZXJpbWVudDox\n"
     ]
    },
    {
     "name": "stderr",
     "output_type": "stream",
     "text": [
      "WARNING: All log messages before absl::InitializeLog() is called are written to STDERR\n",
      "I0000 00:00:1744714654.835040 7601425 fork_posix.cc:75] Other threads are currently calling into gRPC, skipping fork() handlers\n"
     ]
    },
    {
     "data": {
      "application/vnd.jupyter.widget-view+json": {
       "model_id": "6a733cf9208949fea92a055d92d2d977",
       "version_major": 2,
       "version_minor": 0
      },
      "text/plain": [
       "running tasks |          | 0/10 (0.0%) | ⏳ 00:00<? | ?it/s"
      ]
     },
     "metadata": {},
     "output_type": "display_data"
    },
    {
     "name": "stdout",
     "output_type": "stream",
     "text": [
      "Starting agent with messages: Software Engineer - Join our dynamic team to build cutting-edge web applications. Requirements: 3+ years of experience with Python, JavaScript, and React. Responsibilities include developing new features, optimizing performance, and collaborating with cross-functional teams.\n",
      "\u001b[91mTraceback (most recent call last):\n",
      "  File \"/opt/anaconda3/envs/Thesis/lib/python3.12/site-packages/phoenix/experiments/functions.py\", line 238, in sync_run_experiment\n",
      "    _output = task(*bound_task_args.args, **bound_task_args.kwargs)\n",
      "              ^^^^^^^^^^^^^^^^^^^^^^^^^^^^^^^^^^^^^^^^^^^^^^^^^^^^^\n",
      "  File \"/var/folders/70/p7sg7nvs5zj0gb1rprkw31k40000gp/T/ipykernel_47009/3463184274.py\", line 4, in run_agent_task\n",
      "    ret = run_agent(messages)\n",
      "          ^^^^^^^^^\n",
      "NameError: name 'run_agent' is not defined\n",
      "\n",
      "The above exception was the direct cause of the following exception:\n",
      "\n",
      "RuntimeError: task failed for example id 'RGF0YXNldEV4YW1wbGU6MQ==', repetition 1\n",
      "\u001b[0m\n",
      "Starting agent with messages: Data Scientist - Looking for an experienced data scientist to analyze large datasets and develop machine learning models. Must have strong background in Python, R, statistics, and machine learning frameworks. PhD preferred.\n",
      "\u001b[91mTraceback (most recent call last):\n",
      "  File \"/opt/anaconda3/envs/Thesis/lib/python3.12/site-packages/phoenix/experiments/functions.py\", line 238, in sync_run_experiment\n",
      "    _output = task(*bound_task_args.args, **bound_task_args.kwargs)\n",
      "              ^^^^^^^^^^^^^^^^^^^^^^^^^^^^^^^^^^^^^^^^^^^^^^^^^^^^^\n",
      "  File \"/var/folders/70/p7sg7nvs5zj0gb1rprkw31k40000gp/T/ipykernel_47009/3463184274.py\", line 4, in run_agent_task\n",
      "    ret = run_agent(messages)\n",
      "          ^^^^^^^^^\n",
      "NameError: name 'run_agent' is not defined\n",
      "\n",
      "The above exception was the direct cause of the following exception:\n",
      "\n",
      "RuntimeError: task failed for example id 'RGF0YXNldEV4YW1wbGU6Mg==', repetition 1\n",
      "\u001b[0m\n",
      "Starting agent with messages: Marketing Manager - Drive our digital marketing strategy and manage a team of 5. Requirements: 5+ years of experience in digital marketing, proficiency in Google Analytics, and proven track record of successful campaigns.\n",
      "\u001b[91mTraceback (most recent call last):\n",
      "  File \"/opt/anaconda3/envs/Thesis/lib/python3.12/site-packages/phoenix/experiments/functions.py\", line 238, in sync_run_experiment\n",
      "    _output = task(*bound_task_args.args, **bound_task_args.kwargs)\n",
      "              ^^^^^^^^^^^^^^^^^^^^^^^^^^^^^^^^^^^^^^^^^^^^^^^^^^^^^\n",
      "  File \"/var/folders/70/p7sg7nvs5zj0gb1rprkw31k40000gp/T/ipykernel_47009/3463184274.py\", line 4, in run_agent_task\n",
      "    ret = run_agent(messages)\n",
      "          ^^^^^^^^^\n",
      "NameError: name 'run_agent' is not defined\n",
      "\n",
      "The above exception was the direct cause of the following exception:\n",
      "\n",
      "RuntimeError: task failed for example id 'RGF0YXNldEV4YW1wbGU6Mw==', repetition 1\n",
      "\u001b[0m\n",
      "Starting agent with messages: UX Designer - Create intuitive user experiences for our mobile app. Requires expertise in Figma, user research, and prototyping. 2+ years of experience in a similar role required.\n",
      "\u001b[91mTraceback (most recent call last):\n",
      "  File \"/opt/anaconda3/envs/Thesis/lib/python3.12/site-packages/phoenix/experiments/functions.py\", line 238, in sync_run_experiment\n",
      "    _output = task(*bound_task_args.args, **bound_task_args.kwargs)\n",
      "              ^^^^^^^^^^^^^^^^^^^^^^^^^^^^^^^^^^^^^^^^^^^^^^^^^^^^^\n",
      "  File \"/var/folders/70/p7sg7nvs5zj0gb1rprkw31k40000gp/T/ipykernel_47009/3463184274.py\", line 4, in run_agent_task\n",
      "    ret = run_agent(messages)\n",
      "          ^^^^^^^^^\n",
      "NameError: name 'run_agent' is not defined\n",
      "\n",
      "The above exception was the direct cause of the following exception:\n",
      "\n",
      "RuntimeError: task failed for example id 'RGF0YXNldEV4YW1wbGU6NA==', repetition 1\n",
      "\u001b[0m\n",
      "Starting agent with messages: DevOps Engineer - Seeking a skilled DevOps engineer to maintain and improve our cloud infrastructure. Experience with AWS, Docker, Kubernetes, and CI/CD pipelines required. Must be available for on-call rotations.\n",
      "\u001b[91mTraceback (most recent call last):\n",
      "  File \"/opt/anaconda3/envs/Thesis/lib/python3.12/site-packages/phoenix/experiments/functions.py\", line 238, in sync_run_experiment\n",
      "    _output = task(*bound_task_args.args, **bound_task_args.kwargs)\n",
      "              ^^^^^^^^^^^^^^^^^^^^^^^^^^^^^^^^^^^^^^^^^^^^^^^^^^^^^\n",
      "  File \"/var/folders/70/p7sg7nvs5zj0gb1rprkw31k40000gp/T/ipykernel_47009/3463184274.py\", line 4, in run_agent_task\n",
      "    ret = run_agent(messages)\n",
      "          ^^^^^^^^^\n",
      "NameError: name 'run_agent' is not defined\n",
      "\n",
      "The above exception was the direct cause of the following exception:\n",
      "\n",
      "RuntimeError: task failed for example id 'RGF0YXNldEV4YW1wbGU6NQ==', repetition 1\n",
      "\u001b[0m\n"
     ]
    },
    {
     "name": "stderr",
     "output_type": "stream",
     "text": [
      "🐌!! If running inside a notebook, patching the event loop with nest_asyncio will allow asynchronous eval submission, and is significantly faster. To patch the event loop, run `nest_asyncio.apply()`.\n"
     ]
    },
    {
     "name": "stdout",
     "output_type": "stream",
     "text": [
      "Starting agent with messages: Product Manager - Lead product development from conception to launch. Must have excellent communication skills, agile methodology experience, and technical background. MBA preferred.\n",
      "\u001b[91mTraceback (most recent call last):\n",
      "  File \"/opt/anaconda3/envs/Thesis/lib/python3.12/site-packages/phoenix/experiments/functions.py\", line 238, in sync_run_experiment\n",
      "    _output = task(*bound_task_args.args, **bound_task_args.kwargs)\n",
      "              ^^^^^^^^^^^^^^^^^^^^^^^^^^^^^^^^^^^^^^^^^^^^^^^^^^^^^\n",
      "  File \"/var/folders/70/p7sg7nvs5zj0gb1rprkw31k40000gp/T/ipykernel_47009/3463184274.py\", line 4, in run_agent_task\n",
      "    ret = run_agent(messages)\n",
      "          ^^^^^^^^^\n",
      "NameError: name 'run_agent' is not defined\n",
      "\n",
      "The above exception was the direct cause of the following exception:\n",
      "\n",
      "RuntimeError: task failed for example id 'RGF0YXNldEV4YW1wbGU6Ng==', repetition 1\n",
      "\u001b[0m\n",
      "Starting agent with messages: Front-end Developer - Create responsive and accessible web interfaces using modern frameworks. Requirements: Proficiency in HTML, CSS, JavaScript, and experience with React or Vue.js.\n",
      "\u001b[91mTraceback (most recent call last):\n",
      "  File \"/opt/anaconda3/envs/Thesis/lib/python3.12/site-packages/phoenix/experiments/functions.py\", line 238, in sync_run_experiment\n",
      "    _output = task(*bound_task_args.args, **bound_task_args.kwargs)\n",
      "              ^^^^^^^^^^^^^^^^^^^^^^^^^^^^^^^^^^^^^^^^^^^^^^^^^^^^^\n",
      "  File \"/var/folders/70/p7sg7nvs5zj0gb1rprkw31k40000gp/T/ipykernel_47009/3463184274.py\", line 4, in run_agent_task\n",
      "    ret = run_agent(messages)\n",
      "          ^^^^^^^^^\n",
      "NameError: name 'run_agent' is not defined\n",
      "\n",
      "The above exception was the direct cause of the following exception:\n",
      "\n",
      "RuntimeError: task failed for example id 'RGF0YXNldEV4YW1wbGU6Nw==', repetition 1\n",
      "\u001b[0m\n",
      "Starting agent with messages: Customer Success Manager - Help our clients achieve their goals with our SaaS platform. Strong communication skills, customer service experience, and technical aptitude required.\n",
      "\u001b[91mTraceback (most recent call last):\n",
      "  File \"/opt/anaconda3/envs/Thesis/lib/python3.12/site-packages/phoenix/experiments/functions.py\", line 238, in sync_run_experiment\n",
      "    _output = task(*bound_task_args.args, **bound_task_args.kwargs)\n",
      "              ^^^^^^^^^^^^^^^^^^^^^^^^^^^^^^^^^^^^^^^^^^^^^^^^^^^^^\n",
      "  File \"/var/folders/70/p7sg7nvs5zj0gb1rprkw31k40000gp/T/ipykernel_47009/3463184274.py\", line 4, in run_agent_task\n",
      "    ret = run_agent(messages)\n",
      "          ^^^^^^^^^\n",
      "NameError: name 'run_agent' is not defined\n",
      "\n",
      "The above exception was the direct cause of the following exception:\n",
      "\n",
      "RuntimeError: task failed for example id 'RGF0YXNldEV4YW1wbGU6OA==', repetition 1\n",
      "\u001b[0m\n",
      "Starting agent with messages: Machine Learning Engineer - Develop and deploy machine learning models at scale. Deep knowledge of neural networks, NLP, and computer vision required. PhD or equivalent experience preferred.\n",
      "\u001b[91mTraceback (most recent call last):\n",
      "  File \"/opt/anaconda3/envs/Thesis/lib/python3.12/site-packages/phoenix/experiments/functions.py\", line 238, in sync_run_experiment\n",
      "    _output = task(*bound_task_args.args, **bound_task_args.kwargs)\n",
      "              ^^^^^^^^^^^^^^^^^^^^^^^^^^^^^^^^^^^^^^^^^^^^^^^^^^^^^\n",
      "  File \"/var/folders/70/p7sg7nvs5zj0gb1rprkw31k40000gp/T/ipykernel_47009/3463184274.py\", line 4, in run_agent_task\n",
      "    ret = run_agent(messages)\n",
      "          ^^^^^^^^^\n",
      "NameError: name 'run_agent' is not defined\n",
      "\n",
      "The above exception was the direct cause of the following exception:\n",
      "\n",
      "RuntimeError: task failed for example id 'RGF0YXNldEV4YW1wbGU6OQ==', repetition 1\n",
      "\u001b[0m\n",
      "Starting agent with messages: Technical Writer - Create clear documentation for our APIs and software products. Experience with markup languages, technical writing tools, and ability to explain complex concepts simply.\n",
      "\u001b[91mTraceback (most recent call last):\n",
      "  File \"/opt/anaconda3/envs/Thesis/lib/python3.12/site-packages/phoenix/experiments/functions.py\", line 238, in sync_run_experiment\n",
      "    _output = task(*bound_task_args.args, **bound_task_args.kwargs)\n",
      "              ^^^^^^^^^^^^^^^^^^^^^^^^^^^^^^^^^^^^^^^^^^^^^^^^^^^^^\n",
      "  File \"/var/folders/70/p7sg7nvs5zj0gb1rprkw31k40000gp/T/ipykernel_47009/3463184274.py\", line 4, in run_agent_task\n",
      "    ret = run_agent(messages)\n",
      "          ^^^^^^^^^\n",
      "NameError: name 'run_agent' is not defined\n",
      "\n",
      "The above exception was the direct cause of the following exception:\n",
      "\n",
      "RuntimeError: task failed for example id 'RGF0YXNldEV4YW1wbGU6MTA=', repetition 1\n",
      "\u001b[0m\n",
      "✅ Task runs completed.\n",
      "🧠 Evaluation started.\n"
     ]
    },
    {
     "data": {
      "application/vnd.jupyter.widget-view+json": {
       "model_id": "faf915545ddb4ef6b2d6636ac0a7315b",
       "version_major": 2,
       "version_minor": 0
      },
      "text/plain": [
       "running experiment evaluations |          | 0/10 (0.0%) | ⏳ 00:00<? | ?it/s"
      ]
     },
     "metadata": {},
     "output_type": "display_data"
    },
    {
     "name": "stdout",
     "output_type": "stream",
     "text": [
      "\n",
      "🔗 View this experiment: http://localhost:6006/datasets/RGF0YXNldDox/compare?experimentId=RXhwZXJpbWVudDox\n",
      "\n",
      "Experiment Summary (04/15/25 12:57 PM +0200)\n",
      "--------------------------------------------\n",
      "| evaluator        |   n |   n_scores |   avg_score |   n_labels | top_2_labels   |\n",
      "|:-----------------|----:|-----------:|------------:|-----------:|:---------------|\n",
      "| evaluate_clarity |  10 |         10 |           0 |         10 | {'False': 10}  |\n",
      "\n",
      "Tasks Summary (04/15/25 12:57 PM +0200)\n",
      "---------------------------------------\n",
      "|   n_examples |   n_runs |   n_errors | top_error                                    |\n",
      "|-------------:|---------:|-----------:|:---------------------------------------------|\n",
      "|           10 |       10 |         10 | NameError(\"name 'run_agent' is not defined\") |\n"
     ]
    }
   ],
   "source": [
    "experiment = run_experiment(dataset,\n",
    "                            run_agent_task,\n",
    "                            evaluators=[evaluate_clarity],\n",
    "                            experiment_name=\"Testing Clarity Experiment\",\n",
    "                            experiment_description=\"Evaluating the Clarity\")"
   ]
  },
  {
   "cell_type": "code",
   "execution_count": null,
   "id": "710363c2-8bd6-4a79-9bc0-7006e61109b8",
   "metadata": {},
   "outputs": [],
   "source": []
  }
 ],
 "metadata": {
  "kernelspec": {
   "display_name": "Python 3 (ipykernel)",
   "language": "python",
   "name": "python3"
  },
  "language_info": {
   "codemirror_mode": {
    "name": "ipython",
    "version": 3
   },
   "file_extension": ".py",
   "mimetype": "text/x-python",
   "name": "python",
   "nbconvert_exporter": "python",
   "pygments_lexer": "ipython3",
   "version": "3.12.2"
  }
 },
 "nbformat": 4,
 "nbformat_minor": 5
}
