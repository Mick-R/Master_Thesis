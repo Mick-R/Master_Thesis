{
 "cells": [
  {
   "cell_type": "markdown",
   "id": "1a230898-7519-4f66-9356-3d857d53b1f4",
   "metadata": {},
   "source": [
    "# Inter-rater reliability between humans\n",
    "1. Sample Size Determination\n",
    "2. Inter-rater Reliability Testing\n",
    "\n"
   ]
  },
  {
   "cell_type": "code",
   "execution_count": 16,
   "id": "d5109456-b26f-41c7-8e49-b15a2a815950",
   "metadata": {},
   "outputs": [],
   "source": [
    "from scipy.stats import norm\n",
    "import numpy as np\n",
    "from statsmodels.stats.inter_rater import fleiss_kappa"
   ]
  },
  {
   "cell_type": "markdown",
   "id": "7edc343e-87c5-4baa-86d9-6cf1495fffd2",
   "metadata": {},
   "source": [
    "## 1. Sample Size Determination\n",
    "\n",
    "**Parameters based on thesis methodology:**\n",
    "- Significance level (α): 0.05  \n",
    "- Power: 0.8  \n",
    "- Expected κ (kappa): 0.7 *(substantial agreement)*  \n",
    "- Null hypothesis κ₀: 0.3 *(fair agreement)*\n",
    "- Two-sided: True, due to no strong evidence for lower/higher agreement.\n",
    "---\n",
    "\n",
    "### First option: Fleiss Kappa\n",
    "Use Fleiss’ kappa (3 raters: 2 humans + 1 LLM).\n",
    "\n",
    "\n",
    "#### Fleiss Kappa Interpretation Guide:\n",
    "| Kappa (κ)         | Interpretation          |\n",
    "|-------------------|--------------------------|\n",
    "| < 0               | Poor agreement           |\n",
    "| 0.01–0.20         | Slight agreement         |\n",
    "| 0.21–0.40         | Fair agreement           |\n",
    "| 0.41–0.60         | Moderate agreement       |\n",
    "| 0.61–0.80         | Substantial agreement    |\n",
    "| 0.81–1.00         | Almost perfect agreement |\n",
    "\n",
    "\n",
    "\n",
    "### Second option: individual comparison per human\n",
    "It is also possible to compute pairwise Cohen’s kappa between the eval pipeline and each human on overlapping subsets.\n",
    "\n",
    "If Fleiss Kappa scores lower than 0.6 this method can be utilized to identify if a specific company or sector lowers the score more than others. "
   ]
  },
  {
   "cell_type": "code",
   "execution_count": 25,
   "id": "f194f314-8634-425b-b1b1-a1b9aa3ca0df",
   "metadata": {},
   "outputs": [],
   "source": [
    "def fleiss_kappa_sample_size(kappa_0, kappa_1, n_raters, p=0.5, alpha=0.05, power=0.8):\n",
    "    pe = p**2 + (1-p)**2\n",
    "    \n",
    "    po = pe + kappa_0 * (1 - pe)\n",
    "    var_kappa_0 = (2 * (po * (1 - po) + (n_raters - 1) * (pe * (1 - pe) - (po - pe)**2))) / (n_raters * (n_raters - 1) * (1 - pe)**2)\n",
    "    \n",
    "    z_alpha = norm.ppf(1 - alpha / 2)\n",
    "    z_beta = norm.ppf(power)\n",
    "    \n",
    "    n = ((z_alpha + z_beta) ** 2 * var_kappa_0) / ((kappa_1 - kappa_0) ** 2)\n",
    "    \n",
    "    return int(np.ceil(n))\n"
   ]
  },
  {
   "cell_type": "code",
   "execution_count": 26,
   "id": "670321b9-123b-4d99-8b2a-7afd2b835165",
   "metadata": {},
   "outputs": [
    {
     "name": "stdout",
     "output_type": "stream",
     "text": [
      "Required sample size: 45 if using Fleiss' Kappa\n"
     ]
    }
   ],
   "source": [
    "n_required = fleiss_kappa_sample_size(\n",
    "    kappa_0=0.3, \n",
    "    kappa_1=0.7, \n",
    "    n_raters=3,  \n",
    "    p=0.5  \n",
    ")\n",
    "print(\"Required sample size:\", n_required, \"if using Fleiss' Kappa\")"
   ]
  },
  {
   "cell_type": "markdown",
   "id": "45106a48-9527-4d57-8c7e-7b9c7f4066ef",
   "metadata": {},
   "source": [
    "## 2. Inter-rater Reliability Testing\n"
   ]
  },
  {
   "cell_type": "code",
   "execution_count": 30,
   "id": "b1cf51a2-b042-4d92-945e-19db8f6fbd39",
   "metadata": {},
   "outputs": [
    {
     "name": "stdout",
     "output_type": "stream",
     "text": [
      "Fleiss' kappa: 0.6447368421052628\n"
     ]
    }
   ],
   "source": [
    "\n",
    "\n",
    "# Example: 5 items, each rated by 3 raters with 0 or 1\n",
    "ratings = np.array([\n",
    "    [1, 2],  \n",
    "    [0, 3],  \n",
    "    [0, 3],  \n",
    "    [1, 2],\n",
    "    [3, 0],  \n",
    "    [0, 3],  \n",
    "    [0, 3],  \n",
    "    [0, 3],\n",
    "    [3, 0]   \n",
    "])\n",
    "\n",
    "kappa = fleiss_kappa(ratings)\n",
    "print(\"Fleiss' kappa:\", kappa)"
   ]
  },
  {
   "cell_type": "code",
   "execution_count": null,
   "id": "51e2aeb3-acfd-49ef-b3e2-c85c0313da71",
   "metadata": {},
   "outputs": [],
   "source": []
  }
 ],
 "metadata": {
  "kernelspec": {
   "display_name": "Python 3 (ipykernel)",
   "language": "python",
   "name": "python3"
  },
  "language_info": {
   "codemirror_mode": {
    "name": "ipython",
    "version": 3
   },
   "file_extension": ".py",
   "mimetype": "text/x-python",
   "name": "python",
   "nbconvert_exporter": "python",
   "pygments_lexer": "ipython3",
   "version": "3.12.2"
  }
 },
 "nbformat": 4,
 "nbformat_minor": 5
}
