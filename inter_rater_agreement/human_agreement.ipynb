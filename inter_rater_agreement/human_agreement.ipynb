{
 "cells": [
  {
   "cell_type": "markdown",
   "id": "b80a872d-d3f7-4aef-843a-66443b722b17",
   "metadata": {},
   "source": [
    "# Inter-rater reliability between humans\n",
    "1. Sample Size Determination\n",
    "2. Inter-rater Reliability Testing"
   ]
  },
  {
   "cell_type": "code",
   "execution_count": 4,
   "id": "0af6e986-5ccd-4017-b12f-bbd9472e76c3",
   "metadata": {},
   "outputs": [],
   "source": [
    "library(pwr)\n",
    "library(irr)"
   ]
  },
  {
   "cell_type": "markdown",
   "id": "9efb4b60-75a1-435f-90d1-cb0bfb2f5522",
   "metadata": {},
   "source": [
    "## 1. Sample Size Determination\n",
    "\n",
    "**Parameters based on thesis methodology:**\n",
    "- Significance level (α): 0.05  \n",
    "- Power: 0.8  \n",
    "- Expected κ (kappa): 0.7 *(substantial agreement)*  \n",
    "- Null hypothesis κ₀: 0.3 *(fair agreement)*\n",
    "- Two-sided: True, due to no strong evidence for lower/higher agreement.\n",
    "\n",
    "---\n",
    "\n",
    "### Cohen's Kappa Interpretation Guide:\n",
    "| Kappa (κ)         | Interpretation          |\n",
    "|-------------------|--------------------------|\n",
    "| < 0               | Poor agreement           |\n",
    "| 0.01–0.20         | Slight agreement         |\n",
    "| 0.21–0.40         | Fair agreement           |\n",
    "| 0.41–0.60         | Moderate agreement       |\n",
    "| 0.61–0.80         | Substantial agreement    |\n",
    "| 0.81–1.00         | Almost perfect agreement |"
   ]
  },
  {
   "cell_type": "code",
   "execution_count": 39,
   "id": "ed1ee0b5-75f2-4113-baff-19539b0aeb0d",
   "metadata": {},
   "outputs": [
    {
     "name": "stdout",
     "output_type": "stream",
     "text": [
      "Sample size for Cohen's Kappa: 39 \n"
     ]
    }
   ],
   "source": [
    "# Calculate sample size for Cohen's Kappa\n",
    "cohen_sample_size <- N.cohen.kappa(1/2, 1/2, 0.7, 0.3, alpha = 0.05, power = 0.8, twosided = TRUE)\n",
    "cat(\"Sample size for Cohen's Kappa:\", cohen_sample_size, \"\\n\")\n",
    "\n"
   ]
  },
  {
   "cell_type": "markdown",
   "id": "a0846a48-b733-4170-9eec-9283b1febcc6",
   "metadata": {},
   "source": [
    "## 2. Inter-rater Reliability Testing\n",
    "\n",
    "Parameter unweighted in Cohen's Kappa due to nominal values"
   ]
  },
  {
   "cell_type": "code",
   "execution_count": 37,
   "id": "f5f21fe2-1196-4d03-a0a8-b968ec1dcaf4",
   "metadata": {},
   "outputs": [],
   "source": [
    "set.seed(123)\n",
    "\n",
    "# Just sample data, real comes later\n",
    "generate_ratings <- function(n_items, n_categories = 10) {\n",
    "  matrix(sample(1:n_categories, n_items * 2, replace = TRUE), \n",
    "         ncol = 2)\n",
    "}\n",
    "\n",
    "# Calculate Cohen's Kappa\n",
    "calculate_cohen_kappa <- function(ratings_matrix) {\n",
    "  kappa2(ratings_matrix, weight = 'unweighted')\n",
    "}\n"
   ]
  },
  {
   "cell_type": "markdown",
   "id": "8097f5cc-a1f2-49c6-a539-f6c7b7e2975d",
   "metadata": {},
   "source": [
    "For now testing example!"
   ]
  },
  {
   "cell_type": "code",
   "execution_count": 38,
   "id": "295a8db4-91aa-4a70-b5e6-98fed5e2bd8d",
   "metadata": {},
   "outputs": [
    {
     "name": "stdout",
     "output_type": "stream",
     "text": [
      "[1] \"Cohen's Kappa Result:\"\n",
      " Cohen's Kappa for 2 Raters (Weights: unweighted)\n",
      "\n",
      " Subjects = 39 \n",
      "   Raters = 2 \n",
      "    Kappa = -0.0905 \n",
      "\n",
      "        z = -1.7 \n",
      "  p-value = 0.0896 \n"
     ]
    }
   ],
   "source": [
    "ratings <- generate_ratings(cohen_sample_size)\n",
    "cohen_result <- calculate_cohen_kappa(ratings)\n",
    "\n",
    "print(\"Cohen's Kappa Result:\")\n",
    "print(cohen_result)\n"
   ]
  },
  {
   "cell_type": "code",
   "execution_count": null,
   "id": "8a2b0858-f023-433c-a796-060669cb766f",
   "metadata": {},
   "outputs": [],
   "source": []
  }
 ],
 "metadata": {
  "kernelspec": {
   "display_name": "R",
   "language": "R",
   "name": "ir"
  },
  "language_info": {
   "codemirror_mode": "r",
   "file_extension": ".r",
   "mimetype": "text/x-r-source",
   "name": "R",
   "pygments_lexer": "r",
   "version": "4.4.1"
  }
 },
 "nbformat": 4,
 "nbformat_minor": 5
}
